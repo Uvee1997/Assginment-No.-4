{
 "cells": [
  {
   "cell_type": "markdown",
   "id": "052a1b03",
   "metadata": {},
   "source": [
    "1) What exactly is []?\n",
    "\n",
    ":- Empty list"
   ]
  },
  {
   "cell_type": "markdown",
   "id": "c9e732cd",
   "metadata": {},
   "source": [
    "2) In a list of values stored in a variable called spam, how would you assign the value &#39;hello&#39; as the\n",
    "third value? (Assume [2, 4, 6, 8, 10] are in spam.)\n",
    "Let&#39;s pretend the spam includes the list [a,b,c,d] for the next three queries.\n",
    "\n",
    ":- spam[2] = 'hello' (Notice that the third value in a list is at index 2 because the first index is 0)."
   ]
  },
  {
   "cell_type": "markdown",
   "id": "ffb7dca2",
   "metadata": {},
   "source": [
    "3) What is the value of spam [int(int '3'*2/11)]?\n",
    "\n",
    ":- 'd'"
   ]
  },
  {
   "cell_type": "markdown",
   "id": "ef245fdc",
   "metadata": {},
   "source": [
    "4) What is the value of spam[-1]?\n",
    "\n",
    ":- 'd' (negative indexes count from end)"
   ]
  },
  {
   "cell_type": "markdown",
   "id": "83b760dc",
   "metadata": {},
   "source": [
    "5) What is the value of spam[:2]?\n",
    "\n",
    ":- [a,b]"
   ]
  },
  {
   "cell_type": "markdown",
   "id": "93ff9c15",
   "metadata": {},
   "source": [
    "6) What is the value of bacon.index('cat')?\n",
    "\n",
    ":- 1"
   ]
  },
  {
   "cell_type": "markdown",
   "id": "0cd36398",
   "metadata": {},
   "source": [
    "7) How does bacon.append(99) change the look of list value in bacon?\n",
    "\n",
    ":- [3.14,'cat',11,'cat',True,99]. (It append the value in last indexes)"
   ]
  },
  {
   "cell_type": "markdown",
   "id": "39603320",
   "metadata": {},
   "source": [
    "8) How does bacon.remove('cat') change the look of list in bacon?\n",
    "\n",
    ":- [3.14,11,'cat',True]"
   ]
  },
  {
   "cell_type": "markdown",
   "id": "01e0fd7f",
   "metadata": {},
   "source": [
    "9) What are the list concatenation and list replication operators?\n",
    "\n",
    ":- Operator for list concatenation is + , whlie for list replication operator is * "
   ]
  },
  {
   "cell_type": "markdown",
   "id": "a8a31c9f",
   "metadata": {},
   "source": [
    "10) What is difference between the list method append() & insert()?\n",
    "\n",
    ":- append() will add the value only at the end of the list, insert() will add the value anywhere in the list."
   ]
  },
  {
   "cell_type": "markdown",
   "id": "a48520bc",
   "metadata": {},
   "source": [
    "11) What are the two methods for removing items from a list?\n",
    "\n",
    ":- del & clear()"
   ]
  },
  {
   "cell_type": "markdown",
   "id": "26c7db83",
   "metadata": {},
   "source": [
    "12) Describe how list values and string values are identical.\n",
    "\n",
    "The similarity between Lists and Strings is that both are sequences. Both are enclosed in []."
   ]
  },
  {
   "cell_type": "markdown",
   "id": "af59faee",
   "metadata": {},
   "source": [
    "13) What's the difference between tuple and list?\n",
    "\n",
    ":- tuples are immutable objects the lists are mutable.This means that tuples cannot be changed while the lists can be modified.\n",
    "   tuples are more memory efficient that the list. \n",
    "   tuples having notation (), while list having notation []\n",
    "    \n",
    "    "
   ]
  },
  {
   "cell_type": "markdown",
   "id": "98a884de",
   "metadata": {},
   "source": [
    "14) How do you type a tuple value that only contains the integer 42?\n",
    "\n",
    ":- t = (42)"
   ]
  },
  {
   "cell_type": "markdown",
   "id": "2df87de7",
   "metadata": {},
   "source": [
    "15) How do you get a list value's tuple form? How do you get a tuple value's list form?\n",
    "\n",
    "\n",
    ":- By using zip() function we convert tuple to list.\n",
    "   for list to tuple conversion-\n",
    "          def convert(list):\n",
    "               return tuple(list)\n",
    "          list = [     ]\n",
    "          print(convert(list))\n"
   ]
  },
  {
   "cell_type": "markdown",
   "id": "b57584c5",
   "metadata": {},
   "source": [
    "16) Variables that \"contain\" list values are not necessarily lists themselves. Instead, what do they contain?\n",
    "\n",
    ":- Variables will contain references to list values rather than list values themselves."
   ]
  },
  {
   "cell_type": "markdown",
   "id": "5754e35a",
   "metadata": {},
   "source": [
    "17) How do you distinguish between copy.copy() and copy.deepcopy()?\n",
    "\n",
    ":- A copy constructs a new compound object and then (to the extent possible) inserts references into it to the objects found in the original.\n",
    "   A deep copy constructs a new compound object and then, recursively, inserts copies into it of the objects found in the original.\n"
   ]
  }
 ],
 "metadata": {
  "kernelspec": {
   "display_name": "Python 3 (ipykernel)",
   "language": "python",
   "name": "python3"
  },
  "language_info": {
   "codemirror_mode": {
    "name": "ipython",
    "version": 3
   },
   "file_extension": ".py",
   "mimetype": "text/x-python",
   "name": "python",
   "nbconvert_exporter": "python",
   "pygments_lexer": "ipython3",
   "version": "3.9.7"
  }
 },
 "nbformat": 4,
 "nbformat_minor": 5
}
